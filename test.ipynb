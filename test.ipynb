{
 "cells": [
  {
   "cell_type": "code",
   "execution_count": null,
   "metadata": {},
   "outputs": [],
   "source": [
    "from unimol_tools import MolTrain, MolPredict"
   ]
  },
  {
   "cell_type": "markdown",
   "metadata": {},
   "source": [
    "## model training"
   ]
  },
  {
   "cell_type": "code",
   "execution_count": null,
   "metadata": {},
   "outputs": [],
   "source": [
    "clf = MolTrain(\n",
    "    task='classification',\n",
    "    data_type='molecule',\n",
    "    epochs=20,\n",
    "    learning_rate=0.0001,\n",
    "    batch_size=16,\n",
    "    early_stopping=5,\n",
    "    metrics='auc',\n",
    "    split='random',\n",
    "    save_path='./debug', # save_path is the directory to save the model\n",
    "    remove_hs=True,\n",
    "    use_cuda=True,\n",
    ")\n",
    "\n",
    "clf.fit('./data/debug/mol_train.csv') # csv file should contain SMILES and TARGET columns"
   ]
  },
  {
   "cell_type": "markdown",
   "metadata": {},
   "source": [
    "## predction"
   ]
  },
  {
   "cell_type": "code",
   "execution_count": null,
   "metadata": {},
   "outputs": [],
   "source": [
    "import pandas as pd\n",
    "\n",
    "clf = MolPredict(load_model='./debug')\n",
    "test_pred = clf.predict('./data/debug/mol_test.csv')\n",
    "test_results = pd.DataFrame({'pred':test_pred.flatten(), \n",
    "                           'smiles':clf.datahub.data['smiles']\n",
    "                            })\n",
    "print(test_results.head())"
   ]
  }
 ],
 "metadata": {
  "language_info": {
   "name": "python"
  }
 },
 "nbformat": 4,
 "nbformat_minor": 2
}
